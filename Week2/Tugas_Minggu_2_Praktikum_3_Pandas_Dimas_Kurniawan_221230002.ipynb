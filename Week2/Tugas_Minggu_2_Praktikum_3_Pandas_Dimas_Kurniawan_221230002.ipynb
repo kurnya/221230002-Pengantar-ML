{
  "nbformat": 4,
  "nbformat_minor": 0,
  "metadata": {
    "colab": {
      "provenance": [],
      "authorship_tag": "ABX9TyNjTJjDLDsO6Ac5W9THzR7g",
      "include_colab_link": true
    },
    "kernelspec": {
      "name": "python3",
      "display_name": "Python 3"
    },
    "language_info": {
      "name": "python"
    }
  },
  "cells": [
    {
      "cell_type": "markdown",
      "metadata": {
        "id": "view-in-github",
        "colab_type": "text"
      },
      "source": [
        "<a href=\"https://colab.research.google.com/github/kurnya/221230002-Pengantar-ML/blob/main/Tugas_Minggu_2_Praktikum_3_List_dictionarry_Dimas_Kurniawan_221230002.ipynb\" target=\"_parent\"><img src=\"https://colab.research.google.com/assets/colab-badge.svg\" alt=\"Open In Colab\"/></a>"
      ]
    },
    {
      "cell_type": "code",
      "execution_count": 1,
      "metadata": {
        "colab": {
          "base_uri": "https://localhost:8080/",
          "height": 206
        },
        "id": "r6gZVsxF6lE4",
        "outputId": "7a6469c9-1fc5-4f09-bf22-d343d7d3c88a"
      },
      "outputs": [
        {
          "output_type": "execute_result",
          "data": {
            "text/plain": [
              "        date  product_id  quantity      price  customer_id     revenue\n",
              "0 2023-02-21           9         4  44.581566           84  178.326263\n",
              "1 2023-01-15           5         5  50.511103           76  252.555513\n",
              "2 2023-03-13           3         4  62.133972           33  248.535887\n",
              "3 2023-03-02           5         3  78.341592           28  235.024777\n",
              "4 2023-01-21           5         8  18.898626            8  151.189005"
            ],
            "text/html": [
              "\n",
              "  <div id=\"df-8063f272-a4d4-4486-9c6d-8b1d3ced16e8\" class=\"colab-df-container\">\n",
              "    <div>\n",
              "<style scoped>\n",
              "    .dataframe tbody tr th:only-of-type {\n",
              "        vertical-align: middle;\n",
              "    }\n",
              "\n",
              "    .dataframe tbody tr th {\n",
              "        vertical-align: top;\n",
              "    }\n",
              "\n",
              "    .dataframe thead th {\n",
              "        text-align: right;\n",
              "    }\n",
              "</style>\n",
              "<table border=\"1\" class=\"dataframe\">\n",
              "  <thead>\n",
              "    <tr style=\"text-align: right;\">\n",
              "      <th></th>\n",
              "      <th>date</th>\n",
              "      <th>product_id</th>\n",
              "      <th>quantity</th>\n",
              "      <th>price</th>\n",
              "      <th>customer_id</th>\n",
              "      <th>revenue</th>\n",
              "    </tr>\n",
              "  </thead>\n",
              "  <tbody>\n",
              "    <tr>\n",
              "      <th>0</th>\n",
              "      <td>2023-02-21</td>\n",
              "      <td>9</td>\n",
              "      <td>4</td>\n",
              "      <td>44.581566</td>\n",
              "      <td>84</td>\n",
              "      <td>178.326263</td>\n",
              "    </tr>\n",
              "    <tr>\n",
              "      <th>1</th>\n",
              "      <td>2023-01-15</td>\n",
              "      <td>5</td>\n",
              "      <td>5</td>\n",
              "      <td>50.511103</td>\n",
              "      <td>76</td>\n",
              "      <td>252.555513</td>\n",
              "    </tr>\n",
              "    <tr>\n",
              "      <th>2</th>\n",
              "      <td>2023-03-13</td>\n",
              "      <td>3</td>\n",
              "      <td>4</td>\n",
              "      <td>62.133972</td>\n",
              "      <td>33</td>\n",
              "      <td>248.535887</td>\n",
              "    </tr>\n",
              "    <tr>\n",
              "      <th>3</th>\n",
              "      <td>2023-03-02</td>\n",
              "      <td>5</td>\n",
              "      <td>3</td>\n",
              "      <td>78.341592</td>\n",
              "      <td>28</td>\n",
              "      <td>235.024777</td>\n",
              "    </tr>\n",
              "    <tr>\n",
              "      <th>4</th>\n",
              "      <td>2023-01-21</td>\n",
              "      <td>5</td>\n",
              "      <td>8</td>\n",
              "      <td>18.898626</td>\n",
              "      <td>8</td>\n",
              "      <td>151.189005</td>\n",
              "    </tr>\n",
              "  </tbody>\n",
              "</table>\n",
              "</div>\n",
              "    <div class=\"colab-df-buttons\">\n",
              "\n",
              "  <div class=\"colab-df-container\">\n",
              "    <button class=\"colab-df-convert\" onclick=\"convertToInteractive('df-8063f272-a4d4-4486-9c6d-8b1d3ced16e8')\"\n",
              "            title=\"Convert this dataframe to an interactive table.\"\n",
              "            style=\"display:none;\">\n",
              "\n",
              "  <svg xmlns=\"http://www.w3.org/2000/svg\" height=\"24px\" viewBox=\"0 -960 960 960\">\n",
              "    <path d=\"M120-120v-720h720v720H120Zm60-500h600v-160H180v160Zm220 220h160v-160H400v160Zm0 220h160v-160H400v160ZM180-400h160v-160H180v160Zm440 0h160v-160H620v160ZM180-180h160v-160H180v160Zm440 0h160v-160H620v160Z\"/>\n",
              "  </svg>\n",
              "    </button>\n",
              "\n",
              "  <style>\n",
              "    .colab-df-container {\n",
              "      display:flex;\n",
              "      gap: 12px;\n",
              "    }\n",
              "\n",
              "    .colab-df-convert {\n",
              "      background-color: #E8F0FE;\n",
              "      border: none;\n",
              "      border-radius: 50%;\n",
              "      cursor: pointer;\n",
              "      display: none;\n",
              "      fill: #1967D2;\n",
              "      height: 32px;\n",
              "      padding: 0 0 0 0;\n",
              "      width: 32px;\n",
              "    }\n",
              "\n",
              "    .colab-df-convert:hover {\n",
              "      background-color: #E2EBFA;\n",
              "      box-shadow: 0px 1px 2px rgba(60, 64, 67, 0.3), 0px 1px 3px 1px rgba(60, 64, 67, 0.15);\n",
              "      fill: #174EA6;\n",
              "    }\n",
              "\n",
              "    .colab-df-buttons div {\n",
              "      margin-bottom: 4px;\n",
              "    }\n",
              "\n",
              "    [theme=dark] .colab-df-convert {\n",
              "      background-color: #3B4455;\n",
              "      fill: #D2E3FC;\n",
              "    }\n",
              "\n",
              "    [theme=dark] .colab-df-convert:hover {\n",
              "      background-color: #434B5C;\n",
              "      box-shadow: 0px 1px 3px 1px rgba(0, 0, 0, 0.15);\n",
              "      filter: drop-shadow(0px 1px 2px rgba(0, 0, 0, 0.3));\n",
              "      fill: #FFFFFF;\n",
              "    }\n",
              "  </style>\n",
              "\n",
              "    <script>\n",
              "      const buttonEl =\n",
              "        document.querySelector('#df-8063f272-a4d4-4486-9c6d-8b1d3ced16e8 button.colab-df-convert');\n",
              "      buttonEl.style.display =\n",
              "        google.colab.kernel.accessAllowed ? 'block' : 'none';\n",
              "\n",
              "      async function convertToInteractive(key) {\n",
              "        const element = document.querySelector('#df-8063f272-a4d4-4486-9c6d-8b1d3ced16e8');\n",
              "        const dataTable =\n",
              "          await google.colab.kernel.invokeFunction('convertToInteractive',\n",
              "                                                    [key], {});\n",
              "        if (!dataTable) return;\n",
              "\n",
              "        const docLinkHtml = 'Like what you see? Visit the ' +\n",
              "          '<a target=\"_blank\" href=https://colab.research.google.com/notebooks/data_table.ipynb>data table notebook</a>'\n",
              "          + ' to learn more about interactive tables.';\n",
              "        element.innerHTML = '';\n",
              "        dataTable['output_type'] = 'display_data';\n",
              "        await google.colab.output.renderOutput(dataTable, element);\n",
              "        const docLink = document.createElement('div');\n",
              "        docLink.innerHTML = docLinkHtml;\n",
              "        element.appendChild(docLink);\n",
              "      }\n",
              "    </script>\n",
              "  </div>\n",
              "\n",
              "\n",
              "    <div id=\"df-a6c7d70b-2a69-4f4f-a40e-ec076f398f9d\">\n",
              "      <button class=\"colab-df-quickchart\" onclick=\"quickchart('df-a6c7d70b-2a69-4f4f-a40e-ec076f398f9d')\"\n",
              "                title=\"Suggest charts\"\n",
              "                style=\"display:none;\">\n",
              "\n",
              "<svg xmlns=\"http://www.w3.org/2000/svg\" height=\"24px\"viewBox=\"0 0 24 24\"\n",
              "     width=\"24px\">\n",
              "    <g>\n",
              "        <path d=\"M19 3H5c-1.1 0-2 .9-2 2v14c0 1.1.9 2 2 2h14c1.1 0 2-.9 2-2V5c0-1.1-.9-2-2-2zM9 17H7v-7h2v7zm4 0h-2V7h2v10zm4 0h-2v-4h2v4z\"/>\n",
              "    </g>\n",
              "</svg>\n",
              "      </button>\n",
              "\n",
              "<style>\n",
              "  .colab-df-quickchart {\n",
              "      --bg-color: #E8F0FE;\n",
              "      --fill-color: #1967D2;\n",
              "      --hover-bg-color: #E2EBFA;\n",
              "      --hover-fill-color: #174EA6;\n",
              "      --disabled-fill-color: #AAA;\n",
              "      --disabled-bg-color: #DDD;\n",
              "  }\n",
              "\n",
              "  [theme=dark] .colab-df-quickchart {\n",
              "      --bg-color: #3B4455;\n",
              "      --fill-color: #D2E3FC;\n",
              "      --hover-bg-color: #434B5C;\n",
              "      --hover-fill-color: #FFFFFF;\n",
              "      --disabled-bg-color: #3B4455;\n",
              "      --disabled-fill-color: #666;\n",
              "  }\n",
              "\n",
              "  .colab-df-quickchart {\n",
              "    background-color: var(--bg-color);\n",
              "    border: none;\n",
              "    border-radius: 50%;\n",
              "    cursor: pointer;\n",
              "    display: none;\n",
              "    fill: var(--fill-color);\n",
              "    height: 32px;\n",
              "    padding: 0;\n",
              "    width: 32px;\n",
              "  }\n",
              "\n",
              "  .colab-df-quickchart:hover {\n",
              "    background-color: var(--hover-bg-color);\n",
              "    box-shadow: 0 1px 2px rgba(60, 64, 67, 0.3), 0 1px 3px 1px rgba(60, 64, 67, 0.15);\n",
              "    fill: var(--button-hover-fill-color);\n",
              "  }\n",
              "\n",
              "  .colab-df-quickchart-complete:disabled,\n",
              "  .colab-df-quickchart-complete:disabled:hover {\n",
              "    background-color: var(--disabled-bg-color);\n",
              "    fill: var(--disabled-fill-color);\n",
              "    box-shadow: none;\n",
              "  }\n",
              "\n",
              "  .colab-df-spinner {\n",
              "    border: 2px solid var(--fill-color);\n",
              "    border-color: transparent;\n",
              "    border-bottom-color: var(--fill-color);\n",
              "    animation:\n",
              "      spin 1s steps(1) infinite;\n",
              "  }\n",
              "\n",
              "  @keyframes spin {\n",
              "    0% {\n",
              "      border-color: transparent;\n",
              "      border-bottom-color: var(--fill-color);\n",
              "      border-left-color: var(--fill-color);\n",
              "    }\n",
              "    20% {\n",
              "      border-color: transparent;\n",
              "      border-left-color: var(--fill-color);\n",
              "      border-top-color: var(--fill-color);\n",
              "    }\n",
              "    30% {\n",
              "      border-color: transparent;\n",
              "      border-left-color: var(--fill-color);\n",
              "      border-top-color: var(--fill-color);\n",
              "      border-right-color: var(--fill-color);\n",
              "    }\n",
              "    40% {\n",
              "      border-color: transparent;\n",
              "      border-right-color: var(--fill-color);\n",
              "      border-top-color: var(--fill-color);\n",
              "    }\n",
              "    60% {\n",
              "      border-color: transparent;\n",
              "      border-right-color: var(--fill-color);\n",
              "    }\n",
              "    80% {\n",
              "      border-color: transparent;\n",
              "      border-right-color: var(--fill-color);\n",
              "      border-bottom-color: var(--fill-color);\n",
              "    }\n",
              "    90% {\n",
              "      border-color: transparent;\n",
              "      border-bottom-color: var(--fill-color);\n",
              "    }\n",
              "  }\n",
              "</style>\n",
              "\n",
              "      <script>\n",
              "        async function quickchart(key) {\n",
              "          const quickchartButtonEl =\n",
              "            document.querySelector('#' + key + ' button');\n",
              "          quickchartButtonEl.disabled = true;  // To prevent multiple clicks.\n",
              "          quickchartButtonEl.classList.add('colab-df-spinner');\n",
              "          try {\n",
              "            const charts = await google.colab.kernel.invokeFunction(\n",
              "                'suggestCharts', [key], {});\n",
              "          } catch (error) {\n",
              "            console.error('Error during call to suggestCharts:', error);\n",
              "          }\n",
              "          quickchartButtonEl.classList.remove('colab-df-spinner');\n",
              "          quickchartButtonEl.classList.add('colab-df-quickchart-complete');\n",
              "        }\n",
              "        (() => {\n",
              "          let quickchartButtonEl =\n",
              "            document.querySelector('#df-a6c7d70b-2a69-4f4f-a40e-ec076f398f9d button');\n",
              "          quickchartButtonEl.style.display =\n",
              "            google.colab.kernel.accessAllowed ? 'block' : 'none';\n",
              "        })();\n",
              "      </script>\n",
              "    </div>\n",
              "\n",
              "    </div>\n",
              "  </div>\n"
            ],
            "application/vnd.google.colaboratory.intrinsic+json": {
              "type": "dataframe",
              "variable_name": "retail_data",
              "summary": "{\n  \"name\": \"retail_data\",\n  \"rows\": 1000,\n  \"fields\": [\n    {\n      \"column\": \"date\",\n      \"properties\": {\n        \"dtype\": \"date\",\n        \"min\": \"2023-01-01 00:00:00\",\n        \"max\": \"2023-03-31 00:00:00\",\n        \"num_unique_values\": 90,\n        \"samples\": [\n          \"2023-02-13 00:00:00\",\n          \"2023-02-18 00:00:00\",\n          \"2023-03-23 00:00:00\"\n        ],\n        \"semantic_type\": \"\",\n        \"description\": \"\"\n      }\n    },\n    {\n      \"column\": \"product_id\",\n      \"properties\": {\n        \"dtype\": \"number\",\n        \"std\": 2,\n        \"min\": 1,\n        \"max\": 10,\n        \"num_unique_values\": 10,\n        \"samples\": [\n          6,\n          5,\n          2\n        ],\n        \"semantic_type\": \"\",\n        \"description\": \"\"\n      }\n    },\n    {\n      \"column\": \"quantity\",\n      \"properties\": {\n        \"dtype\": \"number\",\n        \"std\": 2,\n        \"min\": 1,\n        \"max\": 9,\n        \"num_unique_values\": 9,\n        \"samples\": [\n          7,\n          5,\n          1\n        ],\n        \"semantic_type\": \"\",\n        \"description\": \"\"\n      }\n    },\n    {\n      \"column\": \"price\",\n      \"properties\": {\n        \"dtype\": \"number\",\n        \"std\": 25.596297662782607,\n        \"min\": 10.03985032934871,\n        \"max\": 99.97424237403226,\n        \"num_unique_values\": 1000,\n        \"samples\": [\n          59.203046850109146,\n          92.03691639927848,\n          11.423187660966587\n        ],\n        \"semantic_type\": \"\",\n        \"description\": \"\"\n      }\n    },\n    {\n      \"column\": \"customer_id\",\n      \"properties\": {\n        \"dtype\": \"number\",\n        \"std\": 28,\n        \"min\": 1,\n        \"max\": 100,\n        \"num_unique_values\": 100,\n        \"samples\": [\n          36,\n          58,\n          42\n        ],\n        \"semantic_type\": \"\",\n        \"description\": \"\"\n      }\n    },\n    {\n      \"column\": \"revenue\",\n      \"properties\": {\n        \"dtype\": \"number\",\n        \"std\": 204.9552477897984,\n        \"min\": 10.908154602012225,\n        \"max\": 899.6305741624664,\n        \"num_unique_values\": 1000,\n        \"samples\": [\n          177.60914055032742,\n          828.3322475935063,\n          102.80868894869928\n        ],\n        \"semantic_type\": \"\",\n        \"description\": \"\"\n      }\n    }\n  ]\n}"
            }
          },
          "metadata": {},
          "execution_count": 1
        }
      ],
      "source": [
        "import pandas as pd\n",
        "import numpy as np\n",
        "\n",
        "# Create sample retail dataset\n",
        "np.random.seed(42)\n",
        "dates = pd.date_range('2023-01-01', '2023-03-31', freq='D')\n",
        "retail_data = pd.DataFrame({\n",
        "    'date': np.random.choice(dates, 1000),\n",
        "    'product_id': np.random.randint(1, 11, 1000),\n",
        "    'quantity': np.random.randint(1, 10, 1000),\n",
        "    'price': np.random.uniform(10, 100, 1000),\n",
        "    'customer_id': np.random.randint(1, 101, 1000)\n",
        "})\n",
        "retail_data['revenue'] = retail_data['quantity'] * retail_data['price']\n",
        "\n",
        "retail_data.head()\n"
      ]
    },
    {
      "cell_type": "code",
      "source": [
        "# SOLUSI TODO 1: Hitung total revenue per product\n",
        "revenue_per_product = retail_data.groupby('product_id')['revenue'].sum().sort_values(ascending=False)\n",
        "\n",
        "print(\"=== Revenue per Product ===\")\n",
        "print(revenue_per_product)\n"
      ],
      "metadata": {
        "colab": {
          "base_uri": "https://localhost:8080/"
        },
        "id": "pX5Cc3oL6pj1",
        "outputId": "10442d05-c3a0-44f7-da1e-b890162de426"
      },
      "execution_count": 2,
      "outputs": [
        {
          "output_type": "stream",
          "name": "stdout",
          "text": [
            "=== Revenue per Product ===\n",
            "product_id\n",
            "8     32062.915807\n",
            "9     30812.566464\n",
            "7     30786.212454\n",
            "5     29894.628309\n",
            "6     29771.241361\n",
            "2     28433.373576\n",
            "3     27360.489903\n",
            "10    25146.428705\n",
            "1     24953.204554\n",
            "4     23950.525430\n",
            "Name: revenue, dtype: float64\n"
          ]
        }
      ]
    },
    {
      "cell_type": "code",
      "source": [
        "# SOLUSI TODO 2: Temukan top 5 customers berdasarkan total spending\n",
        "top_customers = retail_data.groupby('customer_id')['revenue'].sum().nlargest(5)\n",
        "\n",
        "print(\"=== Top 5 Customers by Spending ===\")\n",
        "print(top_customers)\n"
      ],
      "metadata": {
        "colab": {
          "base_uri": "https://localhost:8080/"
        },
        "id": "g_5Xc8ft6sLN",
        "outputId": "a162ace4-67bb-411e-b057-57858a633db4"
      },
      "execution_count": 3,
      "outputs": [
        {
          "output_type": "stream",
          "name": "stdout",
          "text": [
            "=== Top 5 Customers by Spending ===\n",
            "customer_id\n",
            "38    5239.536260\n",
            "59    5185.221233\n",
            "89    4759.149270\n",
            "94    4690.528278\n",
            "15    4657.289888\n",
            "Name: revenue, dtype: float64\n"
          ]
        }
      ]
    },
    {
      "cell_type": "code",
      "source": [
        "# SOLUSI TODO 3: Analisis time series - revenue per hari\n",
        "daily_revenue = retail_data.groupby('date')['revenue'].sum()\n",
        "\n",
        "print(\"=== Daily Revenue (first 10 days) ===\")\n",
        "print(daily_revenue.head(10))\n"
      ],
      "metadata": {
        "colab": {
          "base_uri": "https://localhost:8080/"
        },
        "id": "rMekk56a6wCD",
        "outputId": "f267bf1b-3b4c-4f2d-b45a-bd5ef3888ec6"
      },
      "execution_count": 4,
      "outputs": [
        {
          "output_type": "stream",
          "name": "stdout",
          "text": [
            "=== Daily Revenue (first 10 days) ===\n",
            "date\n",
            "2023-01-01    5268.121555\n",
            "2023-01-02    4656.102661\n",
            "2023-01-03    3226.578585\n",
            "2023-01-04    2462.071219\n",
            "2023-01-05    3741.645829\n",
            "2023-01-06    2617.910977\n",
            "2023-01-07    2503.241611\n",
            "2023-01-08    5032.490882\n",
            "2023-01-09    4344.183819\n",
            "2023-01-10    1700.299375\n",
            "Name: revenue, dtype: float64\n"
          ]
        }
      ]
    },
    {
      "cell_type": "code",
      "source": [
        "# SOLUSI 4: Buat fungsi untuk detect anomalies dalam quantity\n",
        "def detect_quantity_anomalies(df, threshold=2):\n",
        "    mean_qty = df['quantity'].mean()\n",
        "    std_qty = df['quantity'].std()\n",
        "    df['quantity_zscore'] = (df['quantity'] - mean_qty) / std_qty\n",
        "    anomalies = df[np.abs(df['quantity_zscore']) > threshold]\n",
        "    return anomalies\n",
        "\n",
        "anomalies = detect_quantity_anomalies(retail_data)\n",
        "\n",
        "print(f\"=== Quantity Anomalies detected: {len(anomalies)} ===\")\n",
        "print(anomalies[['date', 'product_id', 'quantity', 'quantity_zscore']].head())\n"
      ],
      "metadata": {
        "colab": {
          "base_uri": "https://localhost:8080/"
        },
        "id": "KvrYzgpE63V9",
        "outputId": "94c6bc37-0fc5-4ffb-8ab0-07c11ba8a360"
      },
      "execution_count": 5,
      "outputs": [
        {
          "output_type": "stream",
          "name": "stdout",
          "text": [
            "=== Quantity Anomalies detected: 0 ===\n",
            "Empty DataFrame\n",
            "Columns: [date, product_id, quantity, quantity_zscore]\n",
            "Index: []\n"
          ]
        }
      ]
    },
    {
      "cell_type": "code",
      "source": [
        "# BONUS: Monthly revenue trend\n",
        "retail_data['month'] = retail_data['date'].dt.month\n",
        "monthly_revenue = retail_data.groupby('month')['revenue'].sum()\n",
        "\n",
        "print(\"=== Monthly Revenue ===\")\n",
        "print(monthly_revenue)\n"
      ],
      "metadata": {
        "colab": {
          "base_uri": "https://localhost:8080/"
        },
        "id": "j_CdFaws66GJ",
        "outputId": "1c8954b2-249d-4c58-b0b9-a5185936967d"
      },
      "execution_count": 6,
      "outputs": [
        {
          "output_type": "stream",
          "name": "stdout",
          "text": [
            "=== Monthly Revenue ===\n",
            "month\n",
            "1    100160.076018\n",
            "2     85508.989681\n",
            "3     97502.520863\n",
            "Name: revenue, dtype: float64\n"
          ]
        }
      ]
    },
    {
      "cell_type": "code",
      "source": [
        "# BONUS: Customer segmentation by spending\n",
        "customer_stats = retail_data.groupby('customer_id').agg({\n",
        "    'revenue': ['sum', 'mean', 'count'],\n",
        "    'quantity': 'mean'\n",
        "}).round(2)\n",
        "\n",
        "print(\"=== Customer Statistics (first 5 customers) ===\")\n",
        "print(customer_stats.head())\n"
      ],
      "metadata": {
        "colab": {
          "base_uri": "https://localhost:8080/"
        },
        "id": "f-SUGb7S6-f1",
        "outputId": "96aa3b98-7c0c-47d7-e6d7-38665f4185dc"
      },
      "execution_count": 7,
      "outputs": [
        {
          "output_type": "stream",
          "name": "stdout",
          "text": [
            "=== Customer Statistics (first 5 customers) ===\n",
            "             revenue               quantity\n",
            "                 sum    mean count     mean\n",
            "customer_id                                \n",
            "1            1830.06  261.44     7     5.00\n",
            "2            2460.09  351.44     7     5.57\n",
            "3            2174.72  271.84     8     3.88\n",
            "4            4275.46  328.88    13     5.77\n",
            "5            1638.88  204.86     8     5.12\n"
          ]
        }
      ]
    },
    {
      "cell_type": "code",
      "source": [
        "# TEST ASSERTIONS\n",
        "assert len(revenue_per_product) <= 10, \"Should have max 10 products\"\n",
        "assert len(top_customers) == 5, \"Should have top 5 customers\"\n",
        "assert len(daily_revenue) > 0, \"Should have daily revenue data\"\n",
        "\n",
        "print(\"\\n✅ Semua assertions berhasil! Solusi benar.\")\n"
      ],
      "metadata": {
        "colab": {
          "base_uri": "https://localhost:8080/"
        },
        "id": "h1DUqOCR7Ceh",
        "outputId": "a6bea4d5-d218-4381-dad7-e579aa3153d0"
      },
      "execution_count": 8,
      "outputs": [
        {
          "output_type": "stream",
          "name": "stdout",
          "text": [
            "\n",
            "✅ Semua assertions berhasil! Solusi benar.\n"
          ]
        }
      ]
    }
  ]
}
