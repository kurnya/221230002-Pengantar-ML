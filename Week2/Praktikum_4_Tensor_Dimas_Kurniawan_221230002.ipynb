{
  "nbformat": 4,
  "nbformat_minor": 0,
  "metadata": {
    "colab": {
      "provenance": [],
      "authorship_tag": "ABX9TyOTWpyCliTKiylnS/9K3zVd",
      "include_colab_link": true
    },
    "kernelspec": {
      "name": "python3",
      "display_name": "Python 3"
    },
    "language_info": {
      "name": "python"
    }
  },
  "cells": [
    {
      "cell_type": "markdown",
      "metadata": {
        "id": "view-in-github",
        "colab_type": "text"
      },
      "source": [
        "<a href=\"https://colab.research.google.com/github/kurnya/221230002-Pengantar-ML/blob/main/Week2/Praktikum_4_Tensor_Dimas_Kurniawan_221230002.ipynb\" target=\"_parent\"><img src=\"https://colab.research.google.com/assets/colab-badge.svg\" alt=\"Open In Colab\"/></a>"
      ]
    },
    {
      "cell_type": "code",
      "execution_count": null,
      "metadata": {
        "id": "u-hw_KKI7vQK"
      },
      "outputs": [],
      "source": [
        "import torch\n",
        "import numpy as np\n",
        "\n",
        "# Simulasi batch data: 32 samples, 10 features\n",
        "batch_size, n_features = 32, 10\n",
        "X = torch.randn(batch_size, n_features)\n",
        "weights = torch.randn(n_features, 1)\n",
        "bias = torch.randn(1)\n"
      ]
    },
    {
      "cell_type": "code",
      "source": [
        "# SOLUSI 1: Implementasi linear layer manual\n",
        "def linear_layer(X, W, b):\n",
        "    return torch.matmul(X, W) + b\n",
        "\n",
        "output = linear_layer(X, weights, bias)\n",
        "print(\"Linear output shape:\", output.shape)\n",
        "# SOLUSI 1: Implementasi linear layer manual\n",
        "def linear_layer(X, W, b):\n",
        "    return torch.matmul(X, W) + b\n",
        "\n",
        "output = linear_layer(X, weights, bias)\n",
        "print(\"Linear output shape:\", output.shape)\n"
      ],
      "metadata": {
        "colab": {
          "base_uri": "https://localhost:8080/"
        },
        "id": "K0MuLy447xPA",
        "outputId": "01775ed4-e6b2-4675-bf2a-91aac57d9029"
      },
      "execution_count": null,
      "outputs": [
        {
          "output_type": "stream",
          "name": "stdout",
          "text": [
            "Linear output shape: torch.Size([32, 1])\n",
            "Linear output shape: torch.Size([32, 1])\n"
          ]
        }
      ]
    },
    {
      "cell_type": "code",
      "source": [
        "# SOLUSI 2: Implementasi ReLU\n",
        "def relu_activation(tensor):\n",
        "    return torch.maximum(tensor, torch.tensor(0.0))\n",
        "\n",
        "activated = relu_activation(output)\n",
        "print(\"ReLU output shape:\", activated.shape)\n"
      ],
      "metadata": {
        "colab": {
          "base_uri": "https://localhost:8080/"
        },
        "id": "YqCLFVOm71Y1",
        "outputId": "8346a20d-21fc-459b-f7d4-f98cdcc21fe8"
      },
      "execution_count": null,
      "outputs": [
        {
          "output_type": "stream",
          "name": "stdout",
          "text": [
            "ReLU output shape: torch.Size([32, 1])\n"
          ]
        }
      ]
    },
    {
      "cell_type": "code",
      "source": [
        "# SOLUSI 3: Batch Normalization sederhana\n",
        "def simple_batch_norm(tensor, epsilon=1e-5):\n",
        "    mean = torch.mean(tensor, dim=0, keepdim=True)\n",
        "    std = torch.std(tensor, dim=0, keepdim=True)\n",
        "    return (tensor - mean) / (std + epsilon)\n",
        "\n",
        "normalized = simple_batch_norm(X)\n",
        "print(\"Batch norm output shape:\", normalized.shape)\n"
      ],
      "metadata": {
        "colab": {
          "base_uri": "https://localhost:8080/"
        },
        "id": "qXs1NO-z738b",
        "outputId": "6d07c0a2-92ec-4b0f-a242-39390b8785c6"
      },
      "execution_count": null,
      "outputs": [
        {
          "output_type": "stream",
          "name": "stdout",
          "text": [
            "Batch norm output shape: torch.Size([32, 10])\n"
          ]
        }
      ]
    },
    {
      "cell_type": "code",
      "source": [
        "# SOLUSI 4: One-hot encoding manual\n",
        "def one_hot_pytorch(labels, num_classes):\n",
        "    batch_size = labels.shape[0]\n",
        "    one_hot = torch.zeros(batch_size, num_classes)\n",
        "    one_hot[torch.arange(batch_size), labels] = 1\n",
        "    return one_hot\n",
        "\n",
        "labels = torch.randint(0, 3, (10,))\n",
        "one_hot = one_hot_pytorch(labels, num_classes=3)\n",
        "\n",
        "print(\"Labels:\", labels)\n",
        "print(\"One-hot encoding:\\n\", one_hot)\n"
      ],
      "metadata": {
        "colab": {
          "base_uri": "https://localhost:8080/"
        },
        "id": "VE8UeSQG76Rj",
        "outputId": "8f10a065-4414-4445-cc83-b401aa1e8ed4"
      },
      "execution_count": null,
      "outputs": [
        {
          "output_type": "stream",
          "name": "stdout",
          "text": [
            "Labels: tensor([1, 2, 2, 0, 1, 0, 1, 1, 2, 0])\n",
            "One-hot encoding:\n",
            " tensor([[0., 1., 0.],\n",
            "        [0., 0., 1.],\n",
            "        [0., 0., 1.],\n",
            "        [1., 0., 0.],\n",
            "        [0., 1., 0.],\n",
            "        [1., 0., 0.],\n",
            "        [0., 1., 0.],\n",
            "        [0., 1., 0.],\n",
            "        [0., 0., 1.],\n",
            "        [1., 0., 0.]])\n"
          ]
        }
      ]
    },
    {
      "cell_type": "code",
      "source": [
        "# BONUS: Implementasi perkalian matriks manual\n",
        "def manual_matrix_multiply(A, B):\n",
        "    rows_A, cols_A = A.shape\n",
        "    rows_B, cols_B = B.shape\n",
        "    if cols_A != rows_B:\n",
        "        raise ValueError(\"Matrix dimensions mismatch\")\n",
        "\n",
        "    result = torch.zeros(rows_A, cols_B)\n",
        "    for i in range(rows_A):\n",
        "        for j in range(cols_B):\n",
        "            for k in range(cols_A):\n",
        "                result[i, j] += A[i, k] * B[k, j]\n",
        "    return result\n",
        "\n",
        "A = torch.tensor([[1, 2], [3, 4]], dtype=torch.float32)\n",
        "B = torch.tensor([[5, 6], [7, 8]], dtype=torch.float32)\n",
        "\n",
        "manual_result = manual_matrix_multiply(A, B)\n",
        "torch_result = torch.matmul(A, B)\n",
        "\n",
        "print(\"Manual:\\n\", manual_result)\n",
        "print(\"Torch:\\n\", torch_result)\n"
      ],
      "metadata": {
        "colab": {
          "base_uri": "https://localhost:8080/"
        },
        "id": "CfrwTtTS8Inm",
        "outputId": "944c9173-f723-435e-d78f-073b4f8be059"
      },
      "execution_count": null,
      "outputs": [
        {
          "output_type": "stream",
          "name": "stdout",
          "text": [
            "Manual:\n",
            " tensor([[19., 22.],\n",
            "        [43., 50.]])\n",
            "Torch:\n",
            " tensor([[19., 22.],\n",
            "        [43., 50.]])\n"
          ]
        }
      ]
    },
    {
      "cell_type": "code",
      "source": [
        "# EXTRA: Operasi tensor untuk image processing\n",
        "batch_images = torch.randn(4, 3, 32, 32)\n",
        "\n",
        "reshaped = batch_images.reshape(4, 3, 1024)\n",
        "permuted = batch_images.permute(0, 2, 3, 1)\n",
        "\n",
        "print(\"Original:\", batch_images.shape)\n",
        "print(\"Reshaped:\", reshaped.shape)\n",
        "print(\"Permuted:\", permuted.shape)\n",
        "\n",
        "def simple_conv2d(input_tensor, kernel_size=3):\n",
        "    patches = input_tensor.unfold(2, kernel_size, 1).unfold(3, kernel_size, 1)\n",
        "    print(\"Patches shape:\", patches.shape)\n",
        "    return patches\n",
        "\n",
        "patches = simple_conv2d(batch_images)\n"
      ],
      "metadata": {
        "colab": {
          "base_uri": "https://localhost:8080/"
        },
        "id": "IxtSl5IH8MP0",
        "outputId": "73d6a362-dded-4de4-b6be-09f641eb1549"
      },
      "execution_count": null,
      "outputs": [
        {
          "output_type": "stream",
          "name": "stdout",
          "text": [
            "Original: torch.Size([4, 3, 32, 32])\n",
            "Reshaped: torch.Size([4, 3, 1024])\n",
            "Permuted: torch.Size([4, 32, 32, 3])\n",
            "Patches shape: torch.Size([4, 3, 30, 30, 3, 3])\n"
          ]
        }
      ]
    },
    {
      "cell_type": "code",
      "source": [
        "# TEST ASSERTIONS\n",
        "assert output.shape == (batch_size, 1)\n",
        "assert torch.all(activated >= 0)\n",
        "assert normalized.shape == X.shape\n",
        "assert one_hot.shape == (10, 3)\n",
        "assert torch.allclose(manual_result, torch_result)\n",
        "\n",
        "print(\"\\n✅ Semua assertions berhasil! Solusi benar.\")\n"
      ],
      "metadata": {
        "colab": {
          "base_uri": "https://localhost:8080/"
        },
        "id": "0eUoCfLU8SJX",
        "outputId": "e9d0fd71-750e-4570-ed9a-495fc0560ac1"
      },
      "execution_count": null,
      "outputs": [
        {
          "output_type": "stream",
          "name": "stdout",
          "text": [
            "\n",
            "✅ Semua assertions berhasil! Solusi benar.\n"
          ]
        }
      ]
    }
  ]
}