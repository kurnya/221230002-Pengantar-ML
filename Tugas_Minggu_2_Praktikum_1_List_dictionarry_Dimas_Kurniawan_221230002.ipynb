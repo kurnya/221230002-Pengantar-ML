{
  "nbformat": 4,
  "nbformat_minor": 0,
  "metadata": {
    "colab": {
      "provenance": [],
      "authorship_tag": "ABX9TyMkqAGcNyCSBIcRzR2lew7X",
      "include_colab_link": true
    },
    "kernelspec": {
      "name": "python3",
      "display_name": "Python 3"
    },
    "language_info": {
      "name": "python"
    }
  },
  "cells": [
    {
      "cell_type": "markdown",
      "metadata": {
        "id": "view-in-github",
        "colab_type": "text"
      },
      "source": [
        "<a href=\"https://colab.research.google.com/github/kurnya/221230002-Pengantar-ML/blob/main/Tugas_Minggu_2_Praktikum_1_List_dictionarry_Dimas_Kurniawan_221230002.ipynb\" target=\"_parent\"><img src=\"https://colab.research.google.com/assets/colab-badge.svg\" alt=\"Open In Colab\"/></a>"
      ]
    },
    {
      "cell_type": "code",
      "execution_count": 15,
      "metadata": {
        "id": "aCAZmr1ZxtgP"
      },
      "outputs": [],
      "source": [
        "#Raw Data\n",
        "raw_data = [23.5, 24.1, 22.8, 25.3, 21.9, 26.7, 20.5, 24.8, 23.2, 25.9]"
      ]
    },
    {
      "cell_type": "code",
      "source": [
        "# TODO 1: Filter data yang berada di range 22-25 derajat\n",
        "filtered_data = [x for x in raw_data if 22 <= x <= 25]"
      ],
      "metadata": {
        "id": "o_T6loJxysxm"
      },
      "execution_count": 16,
      "outputs": []
    },
    {
      "cell_type": "code",
      "source": [
        "# TODO 2: Normalisasi data ke range 0-1 menggunakan min-max scaling\n",
        "min_val, max_val = min(raw_data), max(raw_data)\n",
        "normalized_data = [(x - min_val) / (max_val - min_val) for x in raw_data]"
      ],
      "metadata": {
        "id": "Ju4h_jj9yvig"
      },
      "execution_count": 17,
      "outputs": []
    },
    {
      "cell_type": "code",
      "source": [
        "# TODO 3: Hitung moving average dengan window size 3\n",
        "def moving_average(data, window_size):\n",
        "    # TODO: Implementasi moving average\n",
        "    pass\n",
        "\n",
        "ma_result = moving_average(raw_data, 3)\n",
        "\n",
        "assert len(filtered_data) <= len(raw_data), \"Filtered data should not be longer\"\n",
        "assert all(0 <= x <= 1 for x in normalized_data), \"Normalized data should be 0-1\"\n",
        "print(\"✅ List operations completed\")"
      ],
      "metadata": {
        "colab": {
          "base_uri": "https://localhost:8080/"
        },
        "id": "1VIt_7hZy_w6",
        "outputId": "9c40f1e8-3811-4d3c-e542-c88d6ec20e40"
      },
      "execution_count": 18,
      "outputs": [
        {
          "output_type": "stream",
          "name": "stdout",
          "text": [
            "✅ List operations completed\n"
          ]
        }
      ]
    },
    {
      "cell_type": "code",
      "source": [
        "### OPERASI DICTIONARY ###\n",
        "\n",
        "'''TODO: Processing Dataset untuk Machine Learning'''\n",
        "# Dataset sample untuk klasifikasi\n",
        "dataset = [\n",
        "    {'features': [1.2, 3.4, 2.1], 'label': 'class_A'},\n",
        "    {'features': [2.3, 1.5, 4.2], 'label': 'class_B'},\n",
        "    {'features': [3.1, 2.8, 1.9], 'label': 'class_A'},\n",
        "    {'features': [4.2, 3.9, 2.5], 'label': 'class_B'}\n",
        "]"
      ],
      "metadata": {
        "id": "qHjXvi7lzEsa"
      },
      "execution_count": 19,
      "outputs": []
    },
    {
      "cell_type": "code",
      "source": [
        "# TODO 4: Kelompokkan data berdasarkan label\n",
        "def group_by_label(data):\n",
        "    grouped = {}\n",
        "    for item in data:\n",
        "        label = item['label']\n",
        "        features = item['features']\n",
        "        if label not in grouped:\n",
        "            grouped[label] = []\n",
        "        grouped[label].append(features)\n",
        "    return grouped\n",
        "\n",
        "grouped_data = group_by_label(dataset)"
      ],
      "metadata": {
        "id": "6nt58LTBzQa2"
      },
      "execution_count": 20,
      "outputs": []
    },
    {
      "cell_type": "code",
      "source": [
        "# TODO 5: Hitung rata-rata features per kelas\n",
        "def average_features_per_class(grouped_data):\n",
        "    avg_dict = {}\n",
        "    for label, features_list in grouped_data.items():\n",
        "        # Transpose list of lists agar bisa dihitung rata-rata tiap kolom\n",
        "        transposed = list(zip(*features_list))\n",
        "        avg_features = [sum(f)/len(f) for f in transposed]\n",
        "        avg_dict[label] = avg_features\n",
        "    return avg_dict\n",
        "\n",
        "avg_features = average_features_per_class(grouped_data)\n",
        "\n",
        "assert 'class_A' in grouped_data, \"Should contain class_A\"\n",
        "assert 'class_B' in grouped_data, \"Should contain class_B\"\n",
        "print(\"✅ Dictionary operations completed\")"
      ],
      "metadata": {
        "colab": {
          "base_uri": "https://localhost:8080/"
        },
        "id": "1PyYyEGSzXZW",
        "outputId": "5d35de3f-9331-4a61-a131-c86c6e5aaffa"
      },
      "execution_count": 21,
      "outputs": [
        {
          "output_type": "stream",
          "name": "stdout",
          "text": [
            "✅ Dictionary operations completed\n"
          ]
        }
      ]
    },
    {
      "cell_type": "code",
      "source": [
        "# Debug prints\n",
        "print(\"Filtered Data:\", filtered_data, \"\\n\")\n",
        "print(\"Normalized Data:\", normalized_data, \"\\n\")\n",
        "print(\"Moving Average:\", ma_result, \"\\n\")\n",
        "print(\"Grouped Data:\", grouped_data, \"\\n\")\n",
        "print(\"Average Features per Class:\", avg_features, \"\\n\")\n"
      ],
      "metadata": {
        "colab": {
          "base_uri": "https://localhost:8080/"
        },
        "id": "4pOXBvvzzcje",
        "outputId": "e6806d44-da1d-4397-cc37-78e80969a00d"
      },
      "execution_count": 22,
      "outputs": [
        {
          "output_type": "stream",
          "name": "stdout",
          "text": [
            "Filtered Data: [23.5, 24.1, 22.8, 24.8, 23.2] \n",
            "\n",
            "Normalized Data: [0.48387096774193555, 0.5806451612903228, 0.37096774193548404, 0.774193548387097, 0.22580645161290303, 1.0, 0.0, 0.6935483870967744, 0.4354838709677419, 0.8709677419354838] \n",
            "\n",
            "Moving Average: None \n",
            "\n",
            "Grouped Data: {'class_A': [[1.2, 3.4, 2.1], [3.1, 2.8, 1.9]], 'class_B': [[2.3, 1.5, 4.2], [4.2, 3.9, 2.5]]} \n",
            "\n",
            "Average Features per Class: {'class_A': [2.15, 3.0999999999999996, 2.0], 'class_B': [3.25, 2.7, 3.35]} \n",
            "\n"
          ]
        }
      ]
    }
  ]
}